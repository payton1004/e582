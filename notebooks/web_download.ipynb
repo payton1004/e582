{
 "cells": [
  {
   "cell_type": "markdown",
   "metadata": {
    "deletable": true,
    "editable": true
   },
   "source": [
    "### Download all aqua and tera par files for all days from 2002 to 2017 inclusive\n",
    "\n",
    "1) use [e582utils.data_read.download](https://github.com/phaustin/e582/blob/6075f85947929df5a8e064f509a6c73b9f46b507/e582utils/data_read.py#L71-L84) to download the file\n",
    "\n",
    "2) try aqua (A) and tera (T) separately\n",
    "\n",
    "3) aqua data not available for 2002.  The website returns a 404 'Not found' error.  In this case make\n",
    "   the download function throw a 'NoDataException'.  Since this error is expected, print the \n",
    "   exception and continue.   If any other response is received, stop the download"
   ]
  },
  {
   "cell_type": "code",
   "execution_count": null,
   "metadata": {
    "collapsed": false,
    "deletable": true,
    "editable": true
   },
   "outputs": [
    {
     "name": "stdout",
     "output_type": "stream",
     "text": [
      "trying https://oceandata.sci.gsfc.nasa.gov/cgi/getfile/A2002001.L3m_DAY_PAR_par_4km.nc\n",
      "writing to: A2002001.L3m_DAY_PAR_par_4km.nc\n",
      "writing temporary file A2002001.L3m_DAY_PAR_par_4km.nc_tmp\n",
      "requests.get() returned \"Not found\" with filename A2002001.L3m_DAY_PAR_par_4km.nc\n",
      "trying https://oceandata.sci.gsfc.nasa.gov/cgi/getfile/T2002001.L3m_DAY_PAR_par_4km.nc\n",
      "writing to: T2002001.L3m_DAY_PAR_par_4km.nc\n",
      "writing temporary file T2002001.L3m_DAY_PAR_par_4km.nc_tmp\n",
      "downloaded T2002001.L3m_DAY_PAR_par_4km.nc\n",
      "size = 29764879\n",
      "--------------------\n",
      "trying https://oceandata.sci.gsfc.nasa.gov/cgi/getfile/A2002002.L3m_DAY_PAR_par_4km.nc\n",
      "writing to: A2002002.L3m_DAY_PAR_par_4km.nc\n",
      "writing temporary file A2002002.L3m_DAY_PAR_par_4km.nc_tmp\n",
      "requests.get() returned \"Not found\" with filename A2002002.L3m_DAY_PAR_par_4km.nc\n",
      "trying https://oceandata.sci.gsfc.nasa.gov/cgi/getfile/T2002002.L3m_DAY_PAR_par_4km.nc\n",
      "writing to: T2002002.L3m_DAY_PAR_par_4km.nc\n",
      "writing temporary file T2002002.L3m_DAY_PAR_par_4km.nc_tmp\n",
      "downloaded T2002002.L3m_DAY_PAR_par_4km.nc\n",
      "size = 29447913\n",
      "--------------------\n",
      "trying https://oceandata.sci.gsfc.nasa.gov/cgi/getfile/A2002003.L3m_DAY_PAR_par_4km.nc\n",
      "writing to: A2002003.L3m_DAY_PAR_par_4km.nc\n",
      "writing temporary file A2002003.L3m_DAY_PAR_par_4km.nc_tmp\n",
      "requests.get() returned \"Not found\" with filename A2002003.L3m_DAY_PAR_par_4km.nc\n",
      "trying https://oceandata.sci.gsfc.nasa.gov/cgi/getfile/T2002003.L3m_DAY_PAR_par_4km.nc\n",
      "writing to: T2002003.L3m_DAY_PAR_par_4km.nc\n",
      "writing temporary file T2002003.L3m_DAY_PAR_par_4km.nc_tmp\n",
      "downloaded T2002003.L3m_DAY_PAR_par_4km.nc\n",
      "size = 29658400\n",
      "--------------------\n",
      "trying https://oceandata.sci.gsfc.nasa.gov/cgi/getfile/A2002004.L3m_DAY_PAR_par_4km.nc\n",
      "writing to: A2002004.L3m_DAY_PAR_par_4km.nc\n",
      "writing temporary file A2002004.L3m_DAY_PAR_par_4km.nc_tmp\n",
      "requests.get() returned \"Not found\" with filename A2002004.L3m_DAY_PAR_par_4km.nc\n",
      "trying https://oceandata.sci.gsfc.nasa.gov/cgi/getfile/T2002004.L3m_DAY_PAR_par_4km.nc\n",
      "writing to: T2002004.L3m_DAY_PAR_par_4km.nc\n",
      "writing temporary file T2002004.L3m_DAY_PAR_par_4km.nc_tmp\n",
      "downloaded T2002004.L3m_DAY_PAR_par_4km.nc\n",
      "size = 29622574\n",
      "--------------------\n",
      "trying https://oceandata.sci.gsfc.nasa.gov/cgi/getfile/A2003001.L3m_DAY_PAR_par_4km.nc\n",
      "writing to: A2003001.L3m_DAY_PAR_par_4km.nc\n",
      "writing temporary file A2003001.L3m_DAY_PAR_par_4km.nc_tmp\n",
      "downloaded A2003001.L3m_DAY_PAR_par_4km.nc\n",
      "size = 44783336\n",
      "trying https://oceandata.sci.gsfc.nasa.gov/cgi/getfile/T2003001.L3m_DAY_PAR_par_4km.nc\n",
      "writing to: T2003001.L3m_DAY_PAR_par_4km.nc\n",
      "writing temporary file T2003001.L3m_DAY_PAR_par_4km.nc_tmp\n",
      "downloaded T2003001.L3m_DAY_PAR_par_4km.nc\n",
      "size = 29461681\n",
      "--------------------\n",
      "trying https://oceandata.sci.gsfc.nasa.gov/cgi/getfile/A2003002.L3m_DAY_PAR_par_4km.nc\n",
      "writing to: A2003002.L3m_DAY_PAR_par_4km.nc\n",
      "writing temporary file A2003002.L3m_DAY_PAR_par_4km.nc_tmp\n",
      "downloaded A2003002.L3m_DAY_PAR_par_4km.nc\n",
      "size = 44936684\n",
      "trying https://oceandata.sci.gsfc.nasa.gov/cgi/getfile/T2003002.L3m_DAY_PAR_par_4km.nc\n",
      "writing to: T2003002.L3m_DAY_PAR_par_4km.nc\n",
      "writing temporary file T2003002.L3m_DAY_PAR_par_4km.nc_tmp\n",
      "downloaded T2003002.L3m_DAY_PAR_par_4km.nc\n",
      "size = 29478149\n",
      "--------------------\n",
      "trying https://oceandata.sci.gsfc.nasa.gov/cgi/getfile/A2003003.L3m_DAY_PAR_par_4km.nc\n",
      "writing to: A2003003.L3m_DAY_PAR_par_4km.nc\n",
      "writing temporary file A2003003.L3m_DAY_PAR_par_4km.nc_tmp\n",
      "downloaded A2003003.L3m_DAY_PAR_par_4km.nc\n",
      "size = 44399292\n",
      "trying https://oceandata.sci.gsfc.nasa.gov/cgi/getfile/T2003003.L3m_DAY_PAR_par_4km.nc\n",
      "writing to: T2003003.L3m_DAY_PAR_par_4km.nc\n",
      "writing temporary file T2003003.L3m_DAY_PAR_par_4km.nc_tmp\n",
      "downloaded T2003003.L3m_DAY_PAR_par_4km.nc\n",
      "size = 29484289\n",
      "--------------------\n",
      "trying https://oceandata.sci.gsfc.nasa.gov/cgi/getfile/A2003004.L3m_DAY_PAR_par_4km.nc\n",
      "writing to: A2003004.L3m_DAY_PAR_par_4km.nc\n",
      "writing temporary file A2003004.L3m_DAY_PAR_par_4km.nc_tmp\n",
      "downloaded A2003004.L3m_DAY_PAR_par_4km.nc\n",
      "size = 44853249\n",
      "trying https://oceandata.sci.gsfc.nasa.gov/cgi/getfile/T2003004.L3m_DAY_PAR_par_4km.nc\n",
      "writing to: T2003004.L3m_DAY_PAR_par_4km.nc\n",
      "writing temporary file T2003004.L3m_DAY_PAR_par_4km.nc_tmp\n"
     ]
    }
   ],
   "source": [
    "import numpy as np\n",
    "import time\n",
    "root=\"https://oceandata.sci.gsfc.nasa.gov/cgi/getfile\"\n",
    "from e582utils.data_read import download,NoDataException\n",
    "for yearcount,year in enumerate(np.arange(2002,2018)):\n",
    "    if yearcount > 1:\n",
    "        break\n",
    "    for count,day in enumerate(np.arange(1,366)):\n",
    "        if count > 3:\n",
    "            break\n",
    "        for satellite in ['A','T']:\n",
    "            filename='{}{}{:0>3}.L3m_DAY_PAR_par_4km.nc'.format(satellite,year,day)\n",
    "            try:\n",
    "                download(filename,root=root)\n",
    "                time.sleep(3)\n",
    "            except NoDataException as e:\n",
    "                print(e)\n",
    "        print('-'*20)"
   ]
  },
  {
   "cell_type": "code",
   "execution_count": null,
   "metadata": {
    "collapsed": true,
    "deletable": true,
    "editable": true
   },
   "outputs": [],
   "source": []
  }
 ],
 "metadata": {
  "anaconda-cloud": {},
  "hide_input": false,
  "kernelspec": {
   "display_name": "Python 3",
   "language": "python",
   "name": "python3"
  },
  "language_info": {
   "codemirror_mode": {
    "name": "ipython",
    "version": 3
   },
   "file_extension": ".py",
   "mimetype": "text/x-python",
   "name": "python",
   "nbconvert_exporter": "python",
   "pygments_lexer": "ipython3",
   "version": "3.6.0"
  }
 },
 "nbformat": 4,
 "nbformat_minor": 2
}
