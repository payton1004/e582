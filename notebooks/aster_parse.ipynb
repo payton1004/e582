{
 "cells": [
  {
   "cell_type": "markdown",
   "metadata": {},
   "source": [
    "## Notebook demo: parsing NASA EOSDIS core metadata\n",
    "\n",
    "requires pyparsing:\n",
    "\n",
    "    conda install pyparsing\n",
    "    \n",
    "uses parse_odl.py which was part of the 0.8.1 version of pyhdf (removed in 0.8.2)\n",
    "written by: \n",
    "\n",
    "    Andre Gosselin\n",
    "    Maurice Lamontagne Institute\n",
    "    Fisheries and Oceans Department\n",
    "    Government of Canada\n",
    "    Mont-Joli, Canada\n",
    "    Andre.Gosselin@dfo-mpo.gc.ca"
   ]
  },
  {
   "cell_type": "code",
   "execution_count": 24,
   "metadata": {
    "collapsed": true,
    "deletable": true,
    "editable": true
   },
   "outputs": [],
   "source": [
    "import h5py\n",
    "from e582utils.parse_odl import parse_odl\n",
    "import pprint\n",
    "from e582utils.data_read import download\n",
    "import dateutil\n",
    "import datetime, pytz"
   ]
  },
  {
   "cell_type": "code",
   "execution_count": 2,
   "metadata": {
    "collapsed": false
   },
   "outputs": [
    {
     "name": "stdout",
     "output_type": "stream",
     "text": [
      "trying https://clouds.eos.ubc.ca/~phil/courses/atsc301/downloads/AST_L1T_00305192005181928_20150509132931_70445.h5\n",
      "writing to: AST_L1T_00305192005181928_20150509132931_70445.h5\n",
      "\n",
      "AST_L1T_00305192005181928_20150509132931_70445.h5 already exists\n",
      "and is 138155512 bytes\n",
      "will not overwrite\n",
      "\n"
     ]
    }
   ],
   "source": [
    "filename='AST_L1T_00305192005181928_20150509132931_70445.h5'\n",
    "download(filename)"
   ]
  },
  {
   "cell_type": "markdown",
   "metadata": {},
   "source": [
    "### The metadata attributes are saved as byte strings in hdf\n",
    "\n",
    "Convert to utf-8 encoding and strip any blanks and newlines before\n",
    "calling parse_odl on the string\n",
    "\n",
    "parse_odl returns the key,value pairs as nested dictionaries, and converts\n",
    "numbers to float"
   ]
  },
  {
   "cell_type": "code",
   "execution_count": 25,
   "metadata": {
    "collapsed": false,
    "deletable": true,
    "editable": true
   },
   "outputs": [],
   "source": [
    "keep_dict={}\n",
    "with h5py.File(filename,'r') as infile:\n",
    "    for key in infile.attrs.keys():\n",
    "        if key.find('metadata') < 0:\n",
    "            continue\n",
    "        the_attr=infile.attrs[key].decode('utf-8').strip()\n",
    "        cleanup=[]\n",
    "        for line in the_attr.split('\\n'):\n",
    "            cleanup.append(line.strip())\n",
    "        cleanup=' '.join(cleanup)\n",
    "        keep_dict[key]=parse_odl(cleanup)                  "
   ]
  },
  {
   "cell_type": "code",
   "execution_count": 4,
   "metadata": {
    "collapsed": false
   },
   "outputs": [
    {
     "name": "stdout",
     "output_type": "stream",
     "text": [
      "['productmetadata.0_GLOSDS', 'productmetadata.1_GLOSDS', 'productmetadata.s_GLOSDS', 'coremetadata.0_GLOSDS', 'productmetadata.t_GLOSDS', 'productmetadata.v_GLOSDS']\n"
     ]
    }
   ],
   "source": [
    "print(list(keep_dict.keys()))"
   ]
  },
  {
   "cell_type": "markdown",
   "metadata": {},
   "source": [
    "### Write all metadata to a text file\n",
    "\n",
    "Use prettyprint to indent the nested dictionaries"
   ]
  },
  {
   "cell_type": "code",
   "execution_count": 5,
   "metadata": {
    "collapsed": false,
    "deletable": true,
    "editable": true
   },
   "outputs": [],
   "source": [
    "with open('metadata.txt','w') as outfile:\n",
    "    for key,value in keep_dict.items():\n",
    "        outfile.write('\\n---------{}----------\\n{}'.format(\n",
    "            key,pprint.pformat(value,indent=4,width=200)))"
   ]
  },
  {
   "cell_type": "markdown",
   "metadata": {},
   "source": [
    "### get an example value"
   ]
  },
  {
   "cell_type": "code",
   "execution_count": 6,
   "metadata": {
    "collapsed": false,
    "deletable": true,
    "editable": true,
    "scrolled": false
   },
   "outputs": [
    {
     "data": {
      "text/plain": [
       "{'EASTBOUNDINGCOORDINATE': {'NUM_VAL': 1, 'VALUE': -110.126254249257},\n",
       " 'NORTHBOUNDINGCOORDINATE': {'NUM_VAL': 1, 'VALUE': 38.682686887734},\n",
       " 'SOUTHBOUNDINGCOORDINATE': {'NUM_VAL': 1, 'VALUE': 37.9982112531324},\n",
       " 'WESTBOUNDINGCOORDINATE': {'NUM_VAL': 1, 'VALUE': -111.102055080818}}"
      ]
     },
     "execution_count": 6,
     "metadata": {},
     "output_type": "execute_result"
    }
   ],
   "source": [
    "rectangle= keep_dict['coremetadata.0_GLOSDS']['INVENTORYMETADATA']['BOUNDINGRECTANGLE']\n",
    "rectangle"
   ]
  },
  {
   "cell_type": "code",
   "execution_count": 13,
   "metadata": {
    "collapsed": false
   },
   "outputs": [
    {
     "name": "stdout",
     "output_type": "stream",
     "text": [
      "-110.126254249257\n"
     ]
    }
   ],
   "source": [
    "right_lon= keep_dict['coremetadata.0_GLOSDS']['INVENTORYMETADATA']\\\n",
    "                 ['BOUNDINGRECTANGLE']['EASTBOUNDINGCOORDINATE']['VALUE']\n",
    "print(right_lon)"
   ]
  },
  {
   "cell_type": "markdown",
   "metadata": {},
   "source": [
    "### Convert the timestamp string to a datetime object"
   ]
  },
  {
   "cell_type": "code",
   "execution_count": 42,
   "metadata": {
    "collapsed": false
   },
   "outputs": [
    {
     "data": {
      "text/plain": [
       "('20050519', '181928427000Z')"
      ]
     },
     "execution_count": 42,
     "metadata": {},
     "output_type": "execute_result"
    }
   ],
   "source": [
    "image_date=keep_dict['coremetadata.0_GLOSDS']['INVENTORYMETADATA']['SINGLEDATETIME']['CALENDARDATE']['VALUE']\n",
    "image_time=keep_dict['coremetadata.0_GLOSDS']['INVENTORYMETADATA']['SINGLEDATETIME']['TIMEOFDAY']['VALUE']\n",
    "image_date,image_time"
   ]
  },
  {
   "cell_type": "code",
   "execution_count": 37,
   "metadata": {
    "collapsed": false
   },
   "outputs": [],
   "source": [
    "image_dt=dateutil.parser.parse(image_date)\n",
    "hours,minutes,seconds=int(image_time[:2]),int(image_time[2:4]),float(image_time[4:9])\n",
    "seconds,milliseconds=divmod(seconds,1000)\n",
    "seconds,microseconds=int(seconds),int(milliseconds*1000)"
   ]
  },
  {
   "cell_type": "code",
   "execution_count": 40,
   "metadata": {
    "collapsed": false
   },
   "outputs": [],
   "source": [
    "image_date=datetime.datetime(image_dt.year,image_dt.month,\n",
    "                             image_dt.day,hours,minutes,seconds,microseconds,tzinfo=pytz.utc)"
   ]
  },
  {
   "cell_type": "code",
   "execution_count": 41,
   "metadata": {
    "collapsed": false
   },
   "outputs": [
    {
     "data": {
      "text/plain": [
       "datetime.datetime(2005, 5, 19, 18, 19, 28, 427000, tzinfo=<UTC>)"
      ]
     },
     "execution_count": 41,
     "metadata": {},
     "output_type": "execute_result"
    }
   ],
   "source": [
    "image_date"
   ]
  },
  {
   "cell_type": "code",
   "execution_count": null,
   "metadata": {
    "collapsed": true
   },
   "outputs": [],
   "source": []
  }
 ],
 "metadata": {
  "hide_input": false,
  "kernelspec": {
   "display_name": "Python 3",
   "language": "python",
   "name": "python3"
  },
  "language_info": {
   "codemirror_mode": {
    "name": "ipython",
    "version": 3
   },
   "file_extension": ".py",
   "mimetype": "text/x-python",
   "name": "python",
   "nbconvert_exporter": "python",
   "pygments_lexer": "ipython3",
   "version": "3.5.3"
  }
 },
 "nbformat": 4,
 "nbformat_minor": 2
}
