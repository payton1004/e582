{
 "cells": [
  {
   "cell_type": "markdown",
   "metadata": {
    "deletable": true,
    "editable": true
   },
   "source": [
    "### Read the start and end times for a 1 day par file and find files 1 day before and 1 day after\n",
    "\n",
    " "
   ]
  },
  {
   "cell_type": "code",
   "execution_count": 1,
   "metadata": {
    "collapsed": false,
    "deletable": true,
    "editable": true,
    "scrolled": true
   },
   "outputs": [
    {
     "name": "stdout",
     "output_type": "stream",
     "text": [
      "trying https://clouds.eos.ubc.ca/~phil/courses/atsc301/downloads/A2007008.L3m_DAY_PAR_par_9km.nc\n",
      "writing to: A2007008.L3m_DAY_PAR_par_9km.nc\n",
      "\n",
      "A2007008.L3m_DAY_PAR_par_9km.nc already exists\n",
      "and is 14345758 bytes\n",
      "will not overwrite\n",
      "\n"
     ]
    }
   ],
   "source": [
    "from netCDF4 import Dataset\n",
    "from e582utils.data_read import download\n",
    "import warnings\n",
    "warnings.filterwarnings(\"ignore\")\n",
    "import pdir\n",
    "import pytz\n",
    "import dateutil as du\n",
    "import datetime\n",
    "import json\n",
    "\n",
    "l3file='A2007008.L3m_DAY_PAR_par_9km.nc'\n",
    "download(l3file)"
   ]
  },
  {
   "cell_type": "markdown",
   "metadata": {
    "deletable": true,
    "editable": true
   },
   "source": [
    "### get the time string from the netcdf attributes"
   ]
  },
  {
   "cell_type": "code",
   "execution_count": 2,
   "metadata": {
    "collapsed": false
   },
   "outputs": [
    {
     "name": "stdout",
     "output_type": "stream",
     "text": [
      "start: 2007-01-07T23:15:08.000Z\n",
      "end: 2007-01-09T02:30:06.000Z\n"
     ]
    }
   ],
   "source": [
    "with Dataset(l3file,'r') as ncdat:\n",
    "    start=getattr(ncdat,'time_coverage_start')\n",
    "    end=getattr(ncdat,'time_coverage_end') \n",
    "    print('start: {}\\nend: {}'.format(start,end))"
   ]
  },
  {
   "cell_type": "markdown",
   "metadata": {},
   "source": [
    "### convert strings to datetime objects and find the middle of the period"
   ]
  },
  {
   "cell_type": "code",
   "execution_count": 3,
   "metadata": {
    "collapsed": true
   },
   "outputs": [],
   "source": [
    "start_dt=du.parser.parse(start)\n",
    "end_dt=du.parser.parse(end)\n",
    "interval=end_dt - start_dt\n",
    "mid_dt=start_dt + interval/2.\n",
    "#\n",
    "#  remove the hours and minutes, leaving the day\n",
    "#\n",
    "mid_dt = datetime.datetime(mid_dt.year,mid_dt.month,mid_dt.day,tzinfo=pytz.utc)\n",
    "#\n",
    "# make a 1 day timedelta and subtract and add to get before and after\n",
    "#\n",
    "one_day=datetime.timedelta(days=1)\n",
    "before = mid_dt - one_day\n",
    "after = mid_dt + one_day"
   ]
  },
  {
   "cell_type": "markdown",
   "metadata": {},
   "source": [
    "### write functions to get day of year from datetime, and make url"
   ]
  },
  {
   "cell_type": "code",
   "execution_count": 4,
   "metadata": {
    "collapsed": false
   },
   "outputs": [
    {
     "name": "stdout",
     "output_type": "stream",
     "text": [
      "A2007007.L3m_DAY_PAR_par_4km.nc\n",
      "A2007009.L3m_DAY_PAR_par_4km.nc\n"
     ]
    }
   ],
   "source": [
    "def day_of_year(the_dt):\n",
    "    year,month,day=the_dt.year,the_dt.month,the_dt.day\n",
    "    start_of_year=datetime.datetime(year-1,12,31,tzinfo=pytz.utc)\n",
    "    days=(the_dt - start_of_year).days\n",
    "    return(year,days)\n",
    "\n",
    "def make_url(satellite,year,julian_day):\n",
    "    url_file='{}{}{:0>3}.L3m_DAY_PAR_par_4km.nc'.format(satellite,year,julian_day)\n",
    "    return url_file\n",
    "\n",
    "day_before,day_mid,day_after=day_of_year(before),day_of_year(mid_dt),day_of_year(after)\n",
    "print(make_url('A',*day_before))\n",
    "print(make_url('A',*day_after))"
   ]
  },
  {
   "cell_type": "markdown",
   "metadata": {
    "collapsed": true,
    "deletable": true,
    "editable": true
   },
   "source": [
    "### storing the bad days\n",
    "\n",
    "suppose you have two sites 'baja' and 'barb'  (barbados) with missing days\n",
    "\n",
    "keep the year,day,site tuples in a list and save the list to a json file"
   ]
  },
  {
   "cell_type": "code",
   "execution_count": 5,
   "metadata": {
    "collapsed": false
   },
   "outputs": [],
   "source": [
    "bad_list=[(2007,235,'baja'),(2007,235,'barb')]\n",
    "filename='bad_days.json'\n",
    "with open(filename,'w') as out:\n",
    "    json.dump(bad_list,out,indent=4)"
   ]
  },
  {
   "cell_type": "markdown",
   "metadata": {},
   "source": [
    "### here is what the file looks like"
   ]
  },
  {
   "cell_type": "code",
   "execution_count": 6,
   "metadata": {
    "collapsed": false
   },
   "outputs": [
    {
     "data": {
      "text/plain": [
       "[[2007, 235, 'baja'], [2007, 235, 'barb']]"
      ]
     },
     "execution_count": 6,
     "metadata": {},
     "output_type": "execute_result"
    }
   ],
   "source": [
    "# %load bad_days.json\n",
    "[\n",
    "    [\n",
    "        2007,\n",
    "        235,\n",
    "        \"baja\"\n",
    "    ],\n",
    "    [\n",
    "        2007,\n",
    "        235,\n",
    "        \"barb\"\n",
    "    ]\n",
    "]"
   ]
  },
  {
   "cell_type": "markdown",
   "metadata": {},
   "source": [
    "### read it back in"
   ]
  },
  {
   "cell_type": "code",
   "execution_count": 7,
   "metadata": {
    "collapsed": false
   },
   "outputs": [
    {
     "name": "stdout",
     "output_type": "stream",
     "text": [
      "[[2007, 235, 'baja'], [2007, 235, 'barb']]\n"
     ]
    }
   ],
   "source": [
    "with open(filename,'r') as infile:\n",
    "    bad_list=json.load(infile)\n",
    "print(bad_list)"
   ]
  },
  {
   "cell_type": "code",
   "execution_count": null,
   "metadata": {
    "collapsed": true
   },
   "outputs": [],
   "source": []
  }
 ],
 "metadata": {
  "hide_input": false,
  "kernelspec": {
   "display_name": "Python 3",
   "language": "python",
   "name": "python3"
  },
  "language_info": {
   "codemirror_mode": {
    "name": "ipython",
    "version": 3
   },
   "file_extension": ".py",
   "mimetype": "text/x-python",
   "name": "python",
   "nbconvert_exporter": "python",
   "pygments_lexer": "ipython3",
   "version": "3.6.0"
  }
 },
 "nbformat": 4,
 "nbformat_minor": 2
}
