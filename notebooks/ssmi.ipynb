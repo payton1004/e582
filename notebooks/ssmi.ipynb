{
 "cells": [
  {
   "cell_type": "markdown",
   "metadata": {
    "deletable": true,
    "editable": true
   },
   "source": [
    "### SSMI watervapor"
   ]
  },
  {
   "cell_type": "code",
   "execution_count": 1,
   "metadata": {
    "collapsed": true,
    "deletable": true,
    "editable": true
   },
   "outputs": [],
   "source": [
    "__author__ = 'Yingkai (Kyle) Sha'\n",
    "__email__  = 'yingkai@eos.ubc.ca' "
   ]
  },
  {
   "cell_type": "code",
   "execution_count": 2,
   "metadata": {
    "collapsed": false,
    "deletable": true,
    "editable": true
   },
   "outputs": [],
   "source": [
    "import h5py\n",
    "import numpy as np\n",
    "import matplotlib.pyplot as plt\n",
    "from mpl_toolkits.basemap import Basemap\n",
    "from e582utils.data_read import download\n",
    "from e582lib.SSMI import coef, emiss\n",
    "% matplotlib inline"
   ]
  },
  {
   "cell_type": "code",
   "execution_count": 3,
   "metadata": {
    "collapsed": true,
    "deletable": true,
    "editable": true
   },
   "outputs": [],
   "source": [
    "import warnings\n",
    "warnings.filterwarnings('ignore')"
   ]
  },
  {
   "cell_type": "code",
   "execution_count": 4,
   "metadata": {
    "collapsed": false,
    "deletable": true,
    "editable": true
   },
   "outputs": [
    {
     "name": "stdout",
     "output_type": "stream",
     "text": [
      "trying https://clouds.eos.ubc.ca/~phil/courses/atsc301/downloads/bright_temps.h5\n",
      "writing to: bright_temps.h5\n",
      "\n",
      "bright_temps.h5 already exists\n",
      "and is 4159584 bytes\n",
      "will not overwrite\n",
      "\n"
     ]
    }
   ],
   "source": [
    "temp_file='bright_temps.h5'\n",
    "download(temp_file)"
   ]
  },
  {
   "cell_type": "markdown",
   "metadata": {
    "deletable": true,
    "editable": true
   },
   "source": [
    "### Function for histogram. "
   ]
  },
  {
   "cell_type": "code",
   "execution_count": 5,
   "metadata": {
    "collapsed": false,
    "deletable": true,
    "editable": true
   },
   "outputs": [],
   "source": [
    "def hist_SSMI(CWV_unfixed, CWV_both, CWV_19, CWL_unfixed, CWL_both, CWL_19):\n",
    "    \n",
    "    CWV_unfixed = CWV_unfixed.flatten(); CWV_both = CWV_both.flatten(); CWV_19 = CWV_19.flatten()\n",
    "    CWL_unfixed = CWL_unfixed.flatten(); CWL_both = CWL_both.flatten(); CWL_19 = CWL_19.flatten()\n",
    "    binCWV = np.arange(0, 70+1, 1); binCWL = np.arange(0, 0.7+0.01, 0.01)\n",
    "    \n",
    "    fig = plt.figure(figsize=(16, 4))\n",
    "    ax1=plt.subplot2grid((1, 2), (0, 0), colspan=1, rowspan=1)\n",
    "    ax2=plt.subplot2grid((1, 2), (0, 1), colspan=1, rowspan=1)\n",
    "\n",
    "    ax1.hist(CWV_unfixed[~np.isnan(CWV_unfixed)], binCWV, color='y', linewidth=2.5, histtype='step', label='unfixed');\n",
    "    ax1.hist(CWV_both[~np.isnan(CWV_both)],       binCWV, color='b', linewidth=2.5, histtype='step', label='fixed: both 19, 37 GHz');\n",
    "    ax1.hist(CWV_19[~np.isnan(CWV_19)],           binCWV, color='r', linewidth=2.5, histtype='step', label='fixed: 19 GHz only');\n",
    "    ax1.legend(); ax1.grid(); ax1.set_xlabel('CWV', fontsize=12)\n",
    "    ax1.set_title('(a) unfixed v.s. fixed CWV Histogram', fontsize=12, fontweight='bold')\n",
    "\n",
    "    ax2.hist(CWL_unfixed[~np.isnan(CWL_unfixed)], binCWL, color='y', linewidth=2.5, histtype='step', label='unfixed');\n",
    "    ax2.hist(CWL_both[~np.isnan(CWL_both)],       binCWL, color='b', linewidth=2.5, histtype='step', label='fixed: both 19, 37 GHz');\n",
    "    ax2.hist(CWL_19[~np.isnan(CWL_19)],           binCWL, color='r', linewidth=2.5, histtype='step', label='fixed: 19 GHz only');\n",
    "    ax2.legend(); ax2.grid(); ax2.set_xlabel('CWL', fontsize=12)\n",
    "    ax2.set_title('(b) unfixed v.s. fixed CWL Histogram', fontsize=12, fontweight='bold')"
   ]
  },
  {
   "cell_type": "markdown",
   "metadata": {
    "deletable": true,
    "editable": true
   },
   "source": [
    "### Function for maps"
   ]
  },
  {
   "cell_type": "code",
   "execution_count": 6,
   "metadata": {
    "collapsed": false,
    "deletable": true,
    "editable": true
   },
   "outputs": [],
   "source": [
    "def single_map(lon,lat,data):\n",
    "    proj = Basemap(projection='moll', lon_0=180, resolution='c', ax=ax)\n",
    "    proj.drawcoastlines()\n",
    "    proj.drawmeridians(np.arange(0, 360, 60));\n",
    "    proj.drawparallels(np.arange(-90, 90, 30));\n",
    "    return proj\n",
    "    \n",
    "def SSMI_map(lon, lat, CWV_unfixed, CWV_both, CWV_19, CWL_unfixed, CWL_both, CWL_19,the_date='Jan 1990'):\n",
    "    \n",
    "    levCWV = np.arange(0, 80+5, 5); levCWL = np.arange(0, 0.7+0.07, 0.07)\n",
    "\n",
    "    fig = plt.figure(figsize=(12, 8))\n",
    "    ax1=plt.subplot2grid((3, 2), (0, 0), colspan=1, rowspan=1); ax2=plt.subplot2grid((3, 2), (1, 0), colspan=1, rowspan=1)\n",
    "    ax3=plt.subplot2grid((3, 2), (2, 0), colspan=1, rowspan=1); ax4=plt.subplot2grid((3, 2), (0, 1), colspan=1, rowspan=1)\n",
    "    ax5=plt.subplot2grid((3, 2), (1, 1), colspan=1, rowspan=1); ax6=plt.subplot2grid((3, 2), (2, 1), colspan=1, rowspan=1)\n",
    "\n",
    "    proj=single_map(ax1); x, y = proj(lon, lat)\n",
    "    CS = proj.contourf(x, y, CWV_unfixed, levCWV, cmap=plt.cm.RdYlGn, extend='max')\n",
    "    ax1.set_title('(a.1) CWV unfixed {}'.format(the_date), fontsize=12, fontweight='bold', y = 1.025)\n",
    "\n",
    "    proj=single_map(ax2); x, y = proj(lon, lat)\n",
    "    CS = proj.contourf(x, y, CWV_both, levCWV, cmap=plt.cm.RdYlGn, extend='max')\n",
    "    ax2.set_title('(a.2) CWV fixed: both {}'.format(the_date), fontsize=12, fontweight='bold', y = 1.025)\n",
    "    \n",
    "    proj=single_map(ax3); x, y = proj(lon, lat)\n",
    "    CS = proj.contourf(x, y, CWV_19, levCWV, cmap=plt.cm.RdYlGn, extend='max')\n",
    "    ax3.set_title('(a.3) CWV fixed: 19 GHz only {}'.format(the_date), fontsize=12, fontweight='bold', y = 1.025)   \n",
    "    \n",
    "    cax  = fig.add_axes([0.175, 0.05, 0.25, 0.02])\n",
    "    CBar = fig.colorbar(CS, cax=cax, orientation='horizontal')\n",
    "    CBar.ax.tick_params(axis='x', length=12.5)\n",
    "    CBar.set_label('CWV $\\mathrm{kg/m^2}$', fontsize=12)\n",
    "\n",
    "    proj=single_map(ax4); x, y = proj(lon, lat)\n",
    "    CS = proj.contourf(x, y, CWL_unfixed, levCWL, cmap=plt.cm.gist_ncar_r, extend='max')\n",
    "    ax4.set_title('(b.1) CWL unfixed {}'.format(the_date), fontsize=12, fontweight='bold', y = 1.025)\n",
    "    \n",
    "    proj=single_map(ax5); x, y = proj(lon, lat)\n",
    "    CS = proj.contourf(x, y, CWL_both, levCWL, cmap=plt.cm.gist_ncar_r, extend='max')\n",
    "    ax5.set_title('(b.2) CWL fixed: both {}'.format(the_date), fontsize=12, fontweight='bold', y = 1.025)\n",
    "    \n",
    "    proj=single_map(ax6); x, y = proj(lon, lat)\n",
    "    CS = proj.contourf(x, y, CWL_19, levCWL, cmap=plt.cm.gist_ncar_r, extend='max')\n",
    "    ax6.set_title('(b.3) CWL fixed: 19 GHz only {}'.format(the_date), fontsize=12, fontweight='bold', y = 1.025)\n",
    "    \n",
    "    cax  = fig.add_axes([0.6, 0.05, 0.25, 0.02])\n",
    "    CBar = fig.colorbar(CS, cax=cax, orientation='horizontal')\n",
    "    CBar.ax.tick_params(axis='x', length=12.5)\n",
    "    CBar.set_label('CWL', fontsize=12)"
   ]
  },
  {
   "cell_type": "markdown",
   "metadata": {
    "collapsed": true,
    "deletable": true,
    "editable": true
   },
   "source": [
    "## Retrieval functions\n",
    "\n",
    "SSMI.py including functions calculates emissivity and absorption coefficient at at 19 and 37 GHz SSMI channel.\n",
    "\n",
    "Code is Python version of <a href='http://www.aos.wisc.edu/~tristan/aos740.php'>**UW-Madison AOS-704**</a> 's FORTRAN77 code."
   ]
  },
  {
   "cell_type": "markdown",
   "metadata": {
    "deletable": true,
    "editable": true
   },
   "source": [
    "Approximation of windspeed and main retrieval function in Greenwald et al., 1993."
   ]
  },
  {
   "cell_type": "code",
   "execution_count": 7,
   "metadata": {
    "collapsed": false,
    "deletable": true,
    "editable": true
   },
   "outputs": [],
   "source": [
    "# windspeed\n",
    "def wind_speed(sst, t19v, t22v, t37h, t37v):\n",
    "    \"\"\"\n",
    "       input: sst (K), t19v (K), t22v (K), t37h (K)\n",
    "       output: windspeed (m/s)\n",
    "    \"\"\"\n",
    "    speed=1.0969*(t19v)-0.4555e0*(t22v)- 1.76*(t37v)+0.786*(t37h)+ 147.9\n",
    "    return speed\n",
    "\n",
    "# retrival, based on EOSC 582 Website\n",
    "def SSMI_retrieval(SST, theta, T19H, T19V, T22V, T37H, T37V, iter_num=5, correction='both'):\n",
    "    '''\n",
    "    Using 4 SSMI channel brightness temperature retrive total precipitable water and liquid water path\n",
    "    =========================================================================\n",
    "    CMV, CWL = SSMI_retrieval(SST, theta, T19H, T19V, T22V, T37H, T37V, iter_num=5)\n",
    "    -------------------------------------------------------------------------\n",
    "    Input:\n",
    "        SST: Sea Surface Temperature (K)\n",
    "        theta: Incidence angle\n",
    "        T#H: Brightness temperature in #GHz band with horizontal polarization\n",
    "        T#V: Brightness temperature in #GHz band with vertical polarization\n",
    "        iter_num: = 0 means no correction, > 0 applies correction to CWV > 25kg/m^2\n",
    "    Output:\n",
    "        CWV: Total precipitable water\n",
    "        CWL: Liquid water path\n",
    "    ==========================================================================\n",
    "    Author:\n",
    "        Yingkai (Kyle) Sha\n",
    "        yingkai@eos.ubc.ca\n",
    "    '''\n",
    "    M, N = np.shape(SST)\n",
    "    # Parameters\n",
    "    mu = np.cos(theta*np.pi/180.) # Incidence angle\n",
    "    GAMMA = -5.8E-3               # Lapse rate: -5.8 K/km = -5.8E-3 K/m\n",
    "    Hw = 2.2E3                    # Water vapor scaling height: 2.2km\n",
    "    # Correction for cold bias\n",
    "    #    (Greenwald et al., 1993)\n",
    "    T37H= T37H + 3.58  \n",
    "    T37V= T37V + 3.58\n",
    "    # delta T\n",
    "    dT19 = T19H - T19V\n",
    "    dT37 = T37H - T37V\n",
    "    # Frequency bands (GHz)\n",
    "    freq = [19, 22, 37, 85]\n",
    "    # Allocate memorise\n",
    "    emissv = np.empty([len(freq), M, N])\n",
    "    emissh = np.empty([len(freq), M, N])\n",
    "    KL19  = np.empty([M, N])\n",
    "    KL37  = np.empty([M, N])\n",
    "    KV19  = np.empty([M, N])\n",
    "    KV37  = np.empty([M, N])\n",
    "    TOX19 = np.empty([M, N])\n",
    "    TOX37 = np.empty([M, N])\n",
    "    # Emperical windspeed\n",
    "    windspeed = wind_speed(SST, T19V, T22V, T37H-3.58, T37V-3.58)\n",
    "    # Calculate emission, absorbtion coef. \n",
    "    for m in range(M):\n",
    "        for n in range(N):\n",
    "            for i in range(len(freq)):\n",
    "                emissv[i, m, n], emissh[i, m, n] = emiss(i+1, windspeed[m, n], SST[m, n], theta)\n",
    "            KL19[m, n], KL37[m, n], KV19[m, n], KV37[m, n], TOX19[m, n], TOX37[m, n] = coef(SST[m, n])\n",
    "    # Retrieve function\n",
    "    R37V=(1.0 - emissv[2, :, :])\n",
    "    R19V=(1.0 - emissv[0, :, :])\n",
    "    R37H=(1.0 - emissh[2, :, :])\n",
    "    R19H=(1.0 - emissh[0, :, :])\n",
    "    # Iteration correction of F19, F37 for CWV > 25kg/m^2\n",
    "    #    Greenwald et al., 1993) equation (4)\n",
    "    CWV = np.zeros(SST.shape)\n",
    "    #CWL = np.zeros(SST.shape)\n",
    "    T019 = SST\n",
    "    T037 = SST\n",
    "    for iteration in range(iter_num):\n",
    "        hit = CWV > 25\n",
    "        # transmission\n",
    "        Tau19V = np.exp(-1*KV19*CWV/mu)\n",
    "        Tau37V = np.exp(-1*KV37*CWV/mu)\n",
    "        f19 = np.exp(50*KV19/mu)\n",
    "        f37 = np.exp(50*KV37/mu)\n",
    "        if iteration > 0:\n",
    "            # in the first timestep, T019, T037 = SST\n",
    "            T019[hit] = SST[hit] + GAMMA*Hw*(1-f19[hit]*Tau19V[hit]**2)*TOX19[hit]\n",
    "            if correction == 'both':\n",
    "                T037[hit] = SST[hit] + GAMMA*Hw*(1-f37[hit]*Tau37V[hit]**2)*TOX37[hit]\n",
    "        #T037[hit] = SST[hit]\n",
    "        # Correction \n",
    "        F19 = (T19H - T019)/(T19V - T019)\n",
    "        F37 = (T37H - T037)/(T37V - T037)\n",
    "        R1  = -1*mu/2.*np.log(dT19/(SST*R19V*(1-F19)*TOX19**2.))\n",
    "        R2  = -1*mu/2.*np.log(dT37/(SST*R37V*(1-F37)*TOX37**2.))\n",
    "        # Linear algebra\n",
    "        M   = KV19*KL37 - KL19*KV37\n",
    "        CWV = (R1*KL37 - R2*KL19)/M\n",
    "        #print('iteration step = {}'.format(iteration))\n",
    "    # get CWL\n",
    "    CWL = (R2*KV19 - R1*KV37)/M\n",
    "    \n",
    "    return CWV, CWL"
   ]
  },
  {
   "cell_type": "code",
   "execution_count": 8,
   "metadata": {
    "collapsed": false,
    "deletable": true,
    "editable": true
   },
   "outputs": [
    {
     "data": {
      "text/plain": [
       "(array([[ 8.55725684]]), array([[ 0.05486357]]))"
      ]
     },
     "execution_count": 8,
     "metadata": {},
     "output_type": "execute_result"
    }
   ],
   "source": [
    "theta = 53.1\n",
    "# boardcasting because my retrival function supports 2D array\n",
    "SST   = 271.75*np.ones([1, 1]) \n",
    "T19H  = 113.57*np.ones([1, 1])\n",
    "T19V  = 183.24*np.ones([1, 1])\n",
    "T22V  = 194.80*np.ones([1, 1])\n",
    "T37H  = 148.13*np.ones([1, 1])\n",
    "T37V  = 208.11*np.ones([1, 1])\n",
    "\n",
    "SSMI_retrieval(SST, theta, T19H, T19V, T22V, T37H, T37V, iter_num=4, correction='both')"
   ]
  },
  {
   "cell_type": "markdown",
   "metadata": {
    "deletable": true,
    "editable": true
   },
   "source": [
    "### Full Retrival"
   ]
  },
  {
   "cell_type": "markdown",
   "metadata": {
    "deletable": true,
    "editable": true
   },
   "source": [
    "#### Jan"
   ]
  },
  {
   "cell_type": "code",
   "execution_count": 9,
   "metadata": {
    "collapsed": false,
    "deletable": true,
    "editable": true
   },
   "outputs": [],
   "source": [
    "with h5py.File(temp_file, 'r') as TB_obj:\n",
    "    lat = TB_obj['lat'][:]\n",
    "    lon = TB_obj['lon'][:]\n",
    "    SST = TB_obj['jan/sst'][:]\n",
    "    T19H = TB_obj['jan/t19h'][:]\n",
    "    T19V = TB_obj['jan/t19v'][:]\n",
    "    T22V = TB_obj['jan/t22v'][:]\n",
    "    T37H = TB_obj['jan/t37h'][:]\n",
    "    T37V = TB_obj['jan/t37v'][:]"
   ]
  },
  {
   "cell_type": "code",
   "execution_count": 10,
   "metadata": {
    "collapsed": false,
    "deletable": true,
    "editable": true
   },
   "outputs": [],
   "source": [
    "theta = 53.1\n",
    "CWV1_unfixed, CWL1_unfixed = SSMI_retrieval(SST, theta, T19H, T19V, T22V, T37H, T37V, iter_num=1)\n",
    "CWV1_both,    CWL1_both    = SSMI_retrieval(SST, theta, T19H, T19V, T22V, T37H, T37V, iter_num=5, correction='both')\n",
    "CWV1_19,      CWL1_19      = SSMI_retrieval(SST, theta, T19H, T19V, T22V, T37H, T37V, iter_num=5, correction='19')"
   ]
  },
  {
   "cell_type": "code",
   "execution_count": 11,
   "metadata": {
    "collapsed": false,
    "deletable": true,
    "editable": true
   },
   "outputs": [
    {
     "data": {
      "image/png": "[encoded data removed]",
      "text/plain": [
       "<matplotlib.figure.Figure at 0x1180909e8>"
      ]
     },
     "metadata": {},
     "output_type": "display_data"
    }
   ],
   "source": [
    "hist_SSMI(CWV1_unfixed, CWV1_both, CWV1_19, CWL1_unfixed, CWL1_both, CWL1_19)"
   ]
  },
  {
   "cell_type": "code",
   "execution_count": 12,
   "metadata": {
    "collapsed": false,
    "deletable": true,
    "editable": true
   },
   "outputs": [
    {
     "ename": "TypeError",
     "evalue": "single_map() missing 2 required positional arguments: 'lat' and 'data'",
     "output_type": "error",
     "traceback": [
      "\u001b[0;31m---------------------------------------------------------------------------\u001b[0m",
      "\u001b[0;31mTypeError\u001b[0m                                 Traceback (most recent call last)",
      "\u001b[0;32m<ipython-input-12-630d7fec7470>\u001b[0m in \u001b[0;36m<module>\u001b[0;34m()\u001b[0m\n\u001b[0;32m----> 1\u001b[0;31m \u001b[0mSSMI_map\u001b[0m\u001b[0;34m(\u001b[0m\u001b[0mlon\u001b[0m\u001b[0;34m,\u001b[0m \u001b[0mlat\u001b[0m\u001b[0;34m,\u001b[0m \u001b[0mCWV1_unfixed\u001b[0m\u001b[0;34m,\u001b[0m \u001b[0mCWV1_both\u001b[0m\u001b[0;34m,\u001b[0m \u001b[0mCWV1_19\u001b[0m\u001b[0;34m,\u001b[0m \u001b[0mCWL1_unfixed\u001b[0m\u001b[0;34m,\u001b[0m \u001b[0mCWL1_both\u001b[0m\u001b[0;34m,\u001b[0m \u001b[0mCWL1_19\u001b[0m\u001b[0;34m,\u001b[0m\u001b[0mthe_date\u001b[0m\u001b[0;34m=\u001b[0m\u001b[0;34m'(Jan 1990)'\u001b[0m\u001b[0;34m)\u001b[0m\u001b[0;34m\u001b[0m\u001b[0m\n\u001b[0m",
      "\u001b[0;32m<ipython-input-6-7f2d746d95bd>\u001b[0m in \u001b[0;36mSSMI_map\u001b[0;34m(lon, lat, CWV_unfixed, CWV_both, CWV_19, CWL_unfixed, CWL_both, CWL_19, the_date)\u001b[0m\n\u001b[1;32m     15\u001b[0m     \u001b[0max5\u001b[0m\u001b[0;34m=\u001b[0m\u001b[0mplt\u001b[0m\u001b[0;34m.\u001b[0m\u001b[0msubplot2grid\u001b[0m\u001b[0;34m(\u001b[0m\u001b[0;34m(\u001b[0m\u001b[0;36m3\u001b[0m\u001b[0;34m,\u001b[0m \u001b[0;36m2\u001b[0m\u001b[0;34m)\u001b[0m\u001b[0;34m,\u001b[0m \u001b[0;34m(\u001b[0m\u001b[0;36m1\u001b[0m\u001b[0;34m,\u001b[0m \u001b[0;36m1\u001b[0m\u001b[0;34m)\u001b[0m\u001b[0;34m,\u001b[0m \u001b[0mcolspan\u001b[0m\u001b[0;34m=\u001b[0m\u001b[0;36m1\u001b[0m\u001b[0;34m,\u001b[0m \u001b[0mrowspan\u001b[0m\u001b[0;34m=\u001b[0m\u001b[0;36m1\u001b[0m\u001b[0;34m)\u001b[0m\u001b[0;34m;\u001b[0m \u001b[0max6\u001b[0m\u001b[0;34m=\u001b[0m\u001b[0mplt\u001b[0m\u001b[0;34m.\u001b[0m\u001b[0msubplot2grid\u001b[0m\u001b[0;34m(\u001b[0m\u001b[0;34m(\u001b[0m\u001b[0;36m3\u001b[0m\u001b[0;34m,\u001b[0m \u001b[0;36m2\u001b[0m\u001b[0;34m)\u001b[0m\u001b[0;34m,\u001b[0m \u001b[0;34m(\u001b[0m\u001b[0;36m2\u001b[0m\u001b[0;34m,\u001b[0m \u001b[0;36m1\u001b[0m\u001b[0;34m)\u001b[0m\u001b[0;34m,\u001b[0m \u001b[0mcolspan\u001b[0m\u001b[0;34m=\u001b[0m\u001b[0;36m1\u001b[0m\u001b[0;34m,\u001b[0m \u001b[0mrowspan\u001b[0m\u001b[0;34m=\u001b[0m\u001b[0;36m1\u001b[0m\u001b[0;34m)\u001b[0m\u001b[0;34m\u001b[0m\u001b[0m\n\u001b[1;32m     16\u001b[0m \u001b[0;34m\u001b[0m\u001b[0m\n\u001b[0;32m---> 17\u001b[0;31m     \u001b[0mproj\u001b[0m\u001b[0;34m=\u001b[0m\u001b[0msingle_map\u001b[0m\u001b[0;34m(\u001b[0m\u001b[0max1\u001b[0m\u001b[0;34m)\u001b[0m\u001b[0;34m;\u001b[0m \u001b[0mx\u001b[0m\u001b[0;34m,\u001b[0m \u001b[0my\u001b[0m \u001b[0;34m=\u001b[0m \u001b[0mproj\u001b[0m\u001b[0;34m(\u001b[0m\u001b[0mlon\u001b[0m\u001b[0;34m,\u001b[0m \u001b[0mlat\u001b[0m\u001b[0;34m)\u001b[0m\u001b[0;34m\u001b[0m\u001b[0m\n\u001b[0m\u001b[1;32m     18\u001b[0m     \u001b[0mCS\u001b[0m \u001b[0;34m=\u001b[0m \u001b[0mproj\u001b[0m\u001b[0;34m.\u001b[0m\u001b[0mcontourf\u001b[0m\u001b[0;34m(\u001b[0m\u001b[0mx\u001b[0m\u001b[0;34m,\u001b[0m \u001b[0my\u001b[0m\u001b[0;34m,\u001b[0m \u001b[0mCWV_unfixed\u001b[0m\u001b[0;34m,\u001b[0m \u001b[0mlevCWV\u001b[0m\u001b[0;34m,\u001b[0m \u001b[0mcmap\u001b[0m\u001b[0;34m=\u001b[0m\u001b[0mplt\u001b[0m\u001b[0;34m.\u001b[0m\u001b[0mcm\u001b[0m\u001b[0;34m.\u001b[0m\u001b[0mRdYlGn\u001b[0m\u001b[0;34m,\u001b[0m \u001b[0mextend\u001b[0m\u001b[0;34m=\u001b[0m\u001b[0;34m'max'\u001b[0m\u001b[0;34m)\u001b[0m\u001b[0;34m\u001b[0m\u001b[0m\n\u001b[1;32m     19\u001b[0m     \u001b[0max1\u001b[0m\u001b[0;34m.\u001b[0m\u001b[0mset_title\u001b[0m\u001b[0;34m(\u001b[0m\u001b[0;34m'(a.1) CWV unfixed {}'\u001b[0m\u001b[0;34m.\u001b[0m\u001b[0mformat\u001b[0m\u001b[0;34m(\u001b[0m\u001b[0mthe_date\u001b[0m\u001b[0;34m)\u001b[0m\u001b[0;34m,\u001b[0m \u001b[0mfontsize\u001b[0m\u001b[0;34m=\u001b[0m\u001b[0;36m12\u001b[0m\u001b[0;34m,\u001b[0m \u001b[0mfontweight\u001b[0m\u001b[0;34m=\u001b[0m\u001b[0;34m'bold'\u001b[0m\u001b[0;34m,\u001b[0m \u001b[0my\u001b[0m \u001b[0;34m=\u001b[0m \u001b[0;36m1.025\u001b[0m\u001b[0;34m)\u001b[0m\u001b[0;34m\u001b[0m\u001b[0m\n",
      "\u001b[0;31mTypeError\u001b[0m: single_map() missing 2 required positional arguments: 'lat' and 'data'"
     ]
    },
    {
     "data": {
      "image/png": "[encoded data removed]",
      "text/plain": [
       "<matplotlib.figure.Figure at 0x119230ba8>"
      ]
     },
     "metadata": {},
     "output_type": "display_data"
    }
   ],
   "source": [
    "SSMI_map(lon, lat, CWV1_unfixed, CWV1_both, CWV1_19, CWL1_unfixed, CWL1_both, CWL1_19,the_date='(Jan 1990)')"
   ]
  },
  {
   "cell_type": "markdown",
   "metadata": {
    "deletable": true,
    "editable": true
   },
   "source": [
    "#### Jul"
   ]
  },
  {
   "cell_type": "code",
   "execution_count": null,
   "metadata": {
    "collapsed": false,
    "deletable": true,
    "editable": true
   },
   "outputs": [],
   "source": [
    "with h5py.File(temp_file, 'r') as TB_obj:\n",
    "    SST = TB_obj['july/sst'][:]\n",
    "    T19H = TB_obj['july/t19h'][:]\n",
    "    T19V = TB_obj['july/t19v'][:]\n",
    "    T22V = TB_obj['july/t22v'][:]\n",
    "    T37H = TB_obj['july/t37h'][:]\n",
    "    T37V = TB_obj['july/t37v'][:]"
   ]
  },
  {
   "cell_type": "code",
   "execution_count": null,
   "metadata": {
    "collapsed": false,
    "deletable": true,
    "editable": true
   },
   "outputs": [],
   "source": [
    "CWV7_unfixed, CWL7_unfixed = SSMI_retrieval(SST, theta, T19H, T19V, T22V, T37H, T37V, iter_num=1)\n",
    "CWV7_both,    CWL7_both    = SSMI_retrieval(SST, theta, T19H, T19V, T22V, T37H, T37V, iter_num=5, correction='both')\n",
    "CWV7_19,      CWL7_19      = SSMI_retrieval(SST, theta, T19H, T19V, T22V, T37H, T37V, iter_num=5, correction='19')"
   ]
  },
  {
   "cell_type": "code",
   "execution_count": null,
   "metadata": {
    "collapsed": false,
    "deletable": true,
    "editable": true
   },
   "outputs": [],
   "source": [
    "hist_SSMI(CWV7_unfixed, CWV7_both, CWV7_19, CWL7_unfixed, CWL7_both, CWL7_19)"
   ]
  },
  {
   "cell_type": "code",
   "execution_count": null,
   "metadata": {
    "collapsed": false,
    "deletable": true,
    "editable": true
   },
   "outputs": [],
   "source": [
    "SSMI_map(lon, lat, CWV7_unfixed, CWV7_both, CWV7_19, CWL7_unfixed, CWL7_both, CWL7_19,the_date='(July 1990)')"
   ]
  },
  {
   "cell_type": "markdown",
   "metadata": {
    "deletable": true,
    "editable": true
   },
   "source": [
    "## Zonal mean results"
   ]
  },
  {
   "cell_type": "code",
   "execution_count": null,
   "metadata": {
    "collapsed": false,
    "deletable": true,
    "editable": true
   },
   "outputs": [],
   "source": [
    "CWV1z_19 = np.nanmean(CWV1_19, 1); CWL1z_19 = np.nanmean(CWL1_19, 1)\n",
    "CWV7z_19 = np.nanmean(CWV7_19, 1); CWL7z_19 = np.nanmean(CWL7_19, 1)\n",
    "CWV1z_both = np.nanmean(CWV1_both, 1); CWL1z_both = np.nanmean(CWL1_both, 1)\n",
    "CWV7z_both = np.nanmean(CWV7_both, 1); CWL7z_both = np.nanmean(CWL7_both, 1)\n",
    "CWV1z_unfixed = np.nanmean(CWV1_unfixed, 1); CWL1z_unfixed = np.nanmean(CWL1_unfixed, 1)\n",
    "CWV7z_unfixed = np.nanmean(CWV7_unfixed, 1); CWL7z_unfixed = np.nanmean(CWL7_unfixed, 1)\n",
    "\n",
    "fig = plt.figure(figsize=(14, 12))\n",
    "ax1=plt.subplot2grid((2, 2), (0, 0), colspan=1, rowspan=1)\n",
    "ax2=plt.subplot2grid((2, 2), (0, 1), colspan=1, rowspan=1)\n",
    "ax3=plt.subplot2grid((2, 2), (1, 0), colspan=1, rowspan=1)\n",
    "ax4=plt.subplot2grid((2, 2), (1, 1), colspan=1, rowspan=1)\n",
    "\n",
    "ax1.plot(lat[:, 0], CWV1z_unfixed, color=[0, 0.2, 0.4], linewidth=3.5, label='Jan unfixed');\n",
    "ax1.plot(lat[:, 0], CWV1z_both, color=[0, 0.5, 0.7], linewidth=3.5, label='Jan fixed: both');\n",
    "ax1.plot(lat[:, 0], CWV1z_19, color=[0, 0.8, 1], linewidth=3.5, label='Jan fixed: 19 GHz only');\n",
    "ax1.grid(); ax1.legend(loc=4); ax1.set_xlim(-90, 90);\n",
    "ax1.set_title('(a) Zonal mean CWV | Jan', fontsize=12, fontweight='bold')\n",
    "\n",
    "ax2.plot(lat[:, 0], CWV7z_unfixed, color=[0.4, 0.2, 0], linewidth=3.5, label='Jul unfixed');\n",
    "ax2.plot(lat[:, 0], CWV7z_both, color=[0.7, 0.5, 0], linewidth=3.5, label='Jul fixed: both');\n",
    "ax2.plot(lat[:, 0], CWV7z_19, color=[1, 0.8, 0], linewidth=3.5, label='Jul fixed: 19 GHz only');\n",
    "ax2.grid(); ax2.legend(loc=4); ax2.set_xlim(-90, 90); \n",
    "ax2.set_title('(b) Zonal mean CWV | Jul', fontsize=12, fontweight='bold')\n",
    "\n",
    "ax3.plot(lat[:, 0], CWL1z_unfixed, color=[0, 0.2, 0.4], linewidth=3.5, label='Jan unfixed');\n",
    "ax3.plot(lat[:, 0], CWL1z_both, color=[0, 0.5, 0.7], linewidth=3.5, label='Jan fixed: both');\n",
    "ax3.plot(lat[:, 0], CWL1z_19, color=[0, 0.8, 1], linewidth=3.5, label='Jan fixed: 19 GHz only');\n",
    "ax3.grid(); ax3.legend(loc=4); ax3.set_xlim(-90, 90); \n",
    "ax3.set_title('(c) Zonal mean CWL | Jan', fontsize=12, fontweight='bold')\n",
    "\n",
    "ax4.plot(lat[:, 0], CWL7z_unfixed, color=[0.4, 0.2, 0], linewidth=3.5, label='Jul unfixed');\n",
    "ax4.plot(lat[:, 0], CWL7z_both, color=[0.7, 0.5, 0], linewidth=3.5, label='Jul fixed: both');\n",
    "ax4.plot(lat[:, 0], CWL7z_19, color=[1, 0.8, 0], linewidth=3.5, label='Jul fixed: 19 GHz only');\n",
    "ax4.grid(); ax4.legend(loc=4); ax4.set_xlim(-90, 90); \n",
    "ax4.set_title('(d) Zonal mean CWL | Jul', fontsize=12, fontweight='bold')"
   ]
  },
  {
   "cell_type": "code",
   "execution_count": null,
   "metadata": {
    "collapsed": true,
    "deletable": true,
    "editable": true
   },
   "outputs": [],
   "source": []
  }
 ],
 "metadata": {
  "anaconda-cloud": {},
  "hide_input": false,
  "kernelspec": {
   "display_name": "Python 3",
   "language": "python",
   "name": "python3"
  },
  "language_info": {
   "codemirror_mode": {
    "name": "ipython",
    "version": 3
   },
   "file_extension": ".py",
   "mimetype": "text/x-python",
   "name": "python",
   "nbconvert_exporter": "python",
   "pygments_lexer": "ipython3",
   "version": "3.6.1"
  }
 },
 "nbformat": 4,
 "nbformat_minor": 0
}
