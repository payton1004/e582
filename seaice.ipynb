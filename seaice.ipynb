{
 "cells": [
  {
   "cell_type": "markdown",
   "metadata": {
    "deletable": true,
    "editable": true
   },
   "source": [
    "### Arctic sea ice brightness temperatures using the DMSP F17/SSMIS sensor\n",
    "\n",
    "* Dataset:  http://nsidc.org/data/NSIDC-0032/versions/2\n",
    "\n",
    "* Satellites:  DMSP, DMSP 5D-2/F11, DMSP 5D-2/F13, DMSP 5D-2/F8, DMSP 5D-3/F17\n",
    "\n",
    "* Sensors: [SSM/I](https://nsidc.org/data/docs/daac/ssmi_instrument.gd.html), [SSMIS](https://nsidc.org/data/docs/daac/ssmis_instrument)"
   ]
  },
  {
   "cell_type": "markdown",
   "metadata": {
    "deletable": true,
    "editable": true
   },
   "source": [
    "### Datafiles\n",
    "\n",
    "Sample filename (see http://nsidc.org/data/NSIDC-0032/versions/2#title5)\n",
    "\n",
    "    EASE-F17-NL2014032A-V2.19V\n",
    "    \n",
    "Holds binary data in the original EASE map projection for the F17 dsatellite, northern hemisphere, low (25 km) resolution, Julian day 32 of 2014, ascending orbits, version 2, 19 GHz, vertically polarized\n",
    "\n",
    "They are unsigned, 16 bit binary integers, stored in row-major order with shape 721 x 721\n",
    "\n",
    "To get the brightness temperature in Kelvins, these need to be read in as integers then divided by 10."
   ]
  },
  {
   "cell_type": "markdown",
   "metadata": {
    "deletable": true,
    "editable": true
   },
   "source": [
    "### Map projection\n",
    "\n",
    "The temperatures are projected onto an \"ease original\" grid, which is lambert equal area map using [epsg:3408](http://www.spatialreference.org/ref/epsg/nsidc-ease-grid-north/).  This grid assumes a spherical earth with a radius of \n",
    "6371228 meters.\n",
    "\n",
    "Detailed description:  http://nsidc.org/data/ease\n",
    "\n",
    "The \"original ease\" 25 km NL 721 x 721 array has a projected width and height that is given here:\n",
    "\n",
    "http://nsidc.org/data/ease/gis.html#import-original-ease\n",
    "\n",
    "See [NL.hdr](http://nsidc.org/data/gis/headers/NL.hdr) which gives the upper left (x,y) coordinates in meters as\n",
    "\n",
    "(-9024309,9024309) for a coordinate system with (0,0) at its center.  This means that the Basemap plot\n",
    "should have width=height = 2*9024309\n"
   ]
  },
  {
   "cell_type": "code",
   "execution_count": 1,
   "metadata": {
    "collapsed": true,
    "deletable": true,
    "editable": true
   },
   "outputs": [],
   "source": [
    "%matplotlib inline\n",
    "import glob\n",
    "import numpy as np\n",
    "from matplotlib import pyplot as plt\n",
    "from mpl_toolkits.basemap import Basemap\n",
    "from rasterio.transform import from_bounds\n",
    "from pyresample import kd_tree,image, geometry\n",
    "from e582lib.map_slices import make_xy\n",
    "import pyproj"
   ]
  },
  {
   "cell_type": "markdown",
   "metadata": {
    "deletable": true,
    "editable": true
   },
   "source": [
    "### Reading in the data\n",
    "\n",
    "1) use glob.glob to get all files starting with EASE\n",
    "\n",
    "2) skip the high resolutioin files (with NH in their name) and the time files (with TIM)\n",
    "\n",
    "3) open the file as binary data and read in all bytes into a byte string\n",
    "\n",
    "4) Construct a [bytearray](https://docs.python.org/3.5/library/functions.html?highlight=bytearray#bytearray) from the string, and use that to make a numpy array using np.from_buffer\n",
    "\n",
    "5) Shape the array into 721 rows of 721 columns\n",
    "\n",
    "6) Cast the ints to 32 bit floats and divide by 10 to get temperatures\n",
    "\n",
    "7) Store the array in a dictinary keyed by file name"
   ]
  },
  {
   "cell_type": "code",
   "execution_count": 2,
   "metadata": {
    "collapsed": false,
    "deletable": true,
    "editable": true
   },
   "outputs": [],
   "source": [
    "file_list = glob.glob('./seaice_data/EASE*')\n",
    "data_dict={}\n",
    "for a_file in file_list:\n",
    "    with open(a_file,'rb') as infile:\n",
    "        if a_file.find('NH') > -1:\n",
    "            continue\n",
    "        if a_file.find('TIM') > -1:\n",
    "            continue\n",
    "        the_bytes=infile.read()\n",
    "        the_string=bytearray(the_bytes)\n",
    "        the_array=np.frombuffer(the_string,dtype=np.uint16)\n",
    "        the_array.shape=[721,721]\n",
    "        the_array=the_array.astype(np.float32)\n",
    "        the_array=the_array/10.\n",
    "        data_dict[a_file]=the_array"
   ]
  },
  {
   "cell_type": "markdown",
   "metadata": {
    "deletable": true,
    "editable": true
   },
   "source": [
    "### Mapping the data\n",
    "\n",
    "There seems to be a bug in Basemap which prevents it from showing the full\n",
    "domain.  I can get the domain fot 99.84% of full size before crashing.\n",
    "For the first plot, cheat and shrink the map by this amount.  For subsequent plots,\n",
    "use pyresample to resample onto a smaller domain."
   ]
  },
  {
   "cell_type": "markdown",
   "metadata": {
    "deletable": true,
    "editable": true
   },
   "source": [
    "### set the crs and the extent for pyresample and basemap"
   ]
  },
  {
   "cell_type": "code",
   "execution_count": 3,
   "metadata": {
    "collapsed": true,
    "deletable": true,
    "editable": true
   },
   "outputs": [],
   "source": [
    "#http://nsidc.org/data/gis/headers/NL.hdr\n",
    "cornerx=9024309  #meters, from NL.hdr\n",
    "shrink=0.9984\n",
    "cornery=cornerx\n",
    "#basemap width, height should be 2*cornerx,2*cornery\n",
    "orig_crs=dict(init='epsg:3408')\n",
    "orig_extent=[-cornerx,-cornery,cornerx,cornery]"
   ]
  },
  {
   "cell_type": "markdown",
   "metadata": {
    "deletable": true,
    "editable": true
   },
   "source": [
    "### Mask the missing data (0 values)"
   ]
  },
  {
   "cell_type": "code",
   "execution_count": 4,
   "metadata": {
    "collapsed": false,
    "deletable": true,
    "editable": true
   },
   "outputs": [
    {
     "ename": "KeyError",
     "evalue": "'EASE-F17-NL2014032A-V2.37H'",
     "output_type": "error",
     "traceback": [
      "\u001b[0;31m---------------------------------------------------------------------------\u001b[0m",
      "\u001b[0;31mKeyError\u001b[0m                                  Traceback (most recent call last)",
      "\u001b[0;32m<ipython-input-4-7ac855b42f5f>\u001b[0m in \u001b[0;36m<module>\u001b[0;34m()\u001b[0m\n\u001b[1;32m      3\u001b[0m \u001b[0;31m#\u001b[0m\u001b[0;34m\u001b[0m\u001b[0;34m\u001b[0m\u001b[0m\n\u001b[1;32m      4\u001b[0m \u001b[0mfile_name\u001b[0m\u001b[0;34m=\u001b[0m\u001b[0;34m'EASE-F17-NL2014032A-V2.37H'\u001b[0m\u001b[0;34m\u001b[0m\u001b[0m\n\u001b[0;32m----> 5\u001b[0;31m \u001b[0mtemps\u001b[0m\u001b[0;34m=\u001b[0m\u001b[0mdata_dict\u001b[0m\u001b[0;34m[\u001b[0m\u001b[0mfile_name\u001b[0m\u001b[0;34m]\u001b[0m\u001b[0;34m\u001b[0m\u001b[0m\n\u001b[0m\u001b[1;32m      6\u001b[0m \u001b[0;31m#\u001b[0m\u001b[0;34m\u001b[0m\u001b[0;34m\u001b[0m\u001b[0m\n\u001b[1;32m      7\u001b[0m \u001b[0;31m# mask missing data, which is set to 0\u001b[0m\u001b[0;34m\u001b[0m\u001b[0;34m\u001b[0m\u001b[0m\n",
      "\u001b[0;31mKeyError\u001b[0m: 'EASE-F17-NL2014032A-V2.37H'"
     ]
    }
   ],
   "source": [
    "#\n",
    "# get the first filename\n",
    "#\n",
    "file_name='EASE-F17-NL2014032A-V2.37H'\n",
    "temps=data_dict[file_name]\n",
    "#\n",
    "# mask missing data, which is set to 0\n",
    "#\n",
    "masked_temps=np.ma.masked_where(temps < 50.,temps)\n",
    "nrows,ncols=masked_temps.shape"
   ]
  },
  {
   "cell_type": "markdown",
   "metadata": {
    "deletable": true,
    "editable": true
   },
   "source": [
    "### plot the whole array"
   ]
  },
  {
   "cell_type": "code",
   "execution_count": null,
   "metadata": {
    "collapsed": false,
    "deletable": true,
    "editable": true
   },
   "outputs": [],
   "source": [
    "fig,ax=plt.subplots(1,1,figsize=(12,12))\n",
    "basemap_args=dict(epsg=3408,width=2*cornerx*shrink,height=2*cornerx*shrink,ax=ax,resolution='l')\n",
    "bmap=Basemap(**basemap_args)\n",
    "\n",
    "#\n",
    "# get the transform so we can make x,y coords\n",
    "#\n",
    "orig_transform = from_bounds(bmap.llcrnrx,bmap.llcrnry,\n",
    "                             bmap.urcrnrx,bmap.urcrnry,ncols,nrows)\n",
    "xvals,yvals=make_xy(0,nrows,0,ncols,orig_transform)\n",
    "CS=bmap.pcolormesh(xvals,yvals,masked_temps)\n",
    "cax=bmap.colorbar(CS,'right',pad=0.05)\n",
    "out=cax.ax.set_ylabel('Brightness temperature (K)')\n",
    "out.set_rotation(270)\n",
    "out.set_verticalalignment('bottom')\n",
    "#\n",
    "# put vancouver on the map\n",
    "#\n",
    "van_lon,van_lat = [-123.1207,49.2827]\n",
    "van_x,van_y=bmap(van_lon,van_lat)\n",
    "bmap.plot(van_x,van_y,'ro',markersize=10,zorder=5)\n",
    "#\n",
    "# add coastlines and parallels\n",
    "#\n",
    "lat_sep,lon_sep= 10,30\n",
    "parallels = np.arange(30, 90, lat_sep)\n",
    "meridians = np.arange(-180, 180, lon_sep)\n",
    "bmap.drawparallels(parallels, labels=[1, 1, 1, 1],\n",
    "                       fontsize=10, latmax=70)\n",
    "bmap.drawmeridians(meridians, labels=[1, 1, 1, 1],\n",
    "                       fontsize=10, latmax=90)\n",
    "bmap.drawcoastlines(linewidth=1.5, linestyle='solid', color='k',zorder=2)\n",
    "\n",
    "fig.suptitle('Brightness temperature for {}'.format(file_name),y=0.92);"
   ]
  },
  {
   "cell_type": "markdown",
   "metadata": {
    "deletable": true,
    "editable": true
   },
   "source": [
    "### Zoom and rotate the image\n",
    "\n",
    "Try reducing the domain by half.  This will move the southern latitude line form 0 deg to 50 deg north and the central longitude line from 0 deg. to 90 deg W."
   ]
  },
  {
   "cell_type": "markdown",
   "metadata": {
    "deletable": true,
    "editable": true
   },
   "source": [
    "### Reduce the domain by half"
   ]
  },
  {
   "cell_type": "code",
   "execution_count": null,
   "metadata": {
    "collapsed": false,
    "deletable": true,
    "editable": true
   },
   "outputs": [],
   "source": [
    "newcornerx=cornerx/2.\n",
    "newcornery=newcornerx\n",
    "new_extent=[-newcornerx,-newcornerx,newcornerx,newcornerx]"
   ]
  },
  {
   "cell_type": "markdown",
   "metadata": {
    "deletable": true,
    "editable": true
   },
   "source": [
    "### Change lat_0 to -90 deg\n",
    "\n",
    "Also rotate the image so the central longitude is 90 deg W.  Since this is no longer epsg:3408, we\n",
    "need to enter the other epsg:3408 parameters by hand instead of using the shortcut"
   ]
  },
  {
   "cell_type": "code",
   "execution_count": null,
   "metadata": {
    "collapsed": false,
    "deletable": true,
    "editable": true
   },
   "outputs": [],
   "source": [
    "radius=6371228\n",
    "new_crs=dict(proj='laea',lat_0=90,lon_0= -90,a=radius,b=radius,units='m')\n",
    "new_basemap_args=dict(projection='laea',lat_0=90,lon_0= -90,rsphere=(radius,radius))"
   ]
  },
  {
   "cell_type": "markdown",
   "metadata": {
    "deletable": true,
    "editable": true
   },
   "source": [
    "### Check the domain by plotting a map without an image with the new boundaries\n",
    "\n",
    "Note that I make a copy of new_basemap_args so I can use new_basemap_args as the template for other plots"
   ]
  },
  {
   "cell_type": "code",
   "execution_count": null,
   "metadata": {
    "collapsed": false,
    "deletable": true,
    "editable": true
   },
   "outputs": [],
   "source": [
    "fig,ax=plt.subplots(1,1,figsize=(10,10))\n",
    "#\n",
    "# make a copy so changes don't affect new_basemap_args\n",
    "#\n",
    "basemap_args=dict(new_basemap_args)\n",
    "basemap_args.update(dict(width=2*newcornerx,height=2*newcornery,ax=ax,resolution='l'))\n",
    "bmap_new=Basemap(**basemap_args)\n",
    "bmap_new.drawcoastlines()\n",
    "bmap_new.drawparallels(parallels, labels=[1, 1, 1, 1],\n",
    "                       fontsize=10, latmax=70)\n",
    "bmap_new.drawmeridians(meridians, labels=[1, 1, 1, 1],\n",
    "                       fontsize=10, latmax=90)\n",
    "van_x,van_y=bmap_new(van_lon,van_lat)\n",
    "bmap_new.plot(van_x,van_y,'ro',markersize=10);"
   ]
  },
  {
   "cell_type": "markdown",
   "metadata": {
    "deletable": true,
    "editable": true
   },
   "source": [
    "### now resample\n",
    "\n",
    "This looks ok, so zoom to the new domain.  To keep the pixel resolution at about\n",
    "25 km, make the new array 360 x 360.  Use an 18 km zone of influence for the neighbors."
   ]
  },
  {
   "cell_type": "code",
   "execution_count": null,
   "metadata": {
    "collapsed": false,
    "deletable": true,
    "editable": true
   },
   "outputs": [],
   "source": [
    "newrows=360\n",
    "newcols=newrows\n",
    "orig_image = masked_temps\n",
    "from_def = geometry.AreaDefinition('orig', 'orig image', 'area_orig',\n",
    "                               orig_crs,\n",
    "                               ncols, nrows,\n",
    "                               orig_extent)\n",
    "to_def = geometry.AreaDefinition('new', 'new image','area_new',\n",
    "                               new_crs,\n",
    "                               newcols,newrows,\n",
    "                               new_extent)\n",
    "\n",
    "from_nn = image.ImageContainerNearest(masked_temps,from_def, \n",
    "                                      radius_of_influence=18000,fill_value=None)\n",
    "to_nn = from_nn.resample(to_def)\n",
    "result_data_nn = to_nn.image_data        "
   ]
  },
  {
   "cell_type": "markdown",
   "metadata": {
    "deletable": true,
    "editable": true
   },
   "source": [
    "### check the size of the remapped pixels"
   ]
  },
  {
   "cell_type": "code",
   "execution_count": null,
   "metadata": {
    "collapsed": false,
    "deletable": true,
    "editable": true
   },
   "outputs": [],
   "source": [
    "ll_x,ll_y,ur_x,ur_y=new_extent\n",
    "pixel_size=(ur_x - ll_x)/newcols\n",
    "print('approximate pixel size is: {:5.2f} km'.format(pixel_size*1.e-3))"
   ]
  },
  {
   "cell_type": "markdown",
   "metadata": {
    "deletable": true,
    "editable": true
   },
   "source": [
    "### make the final plot"
   ]
  },
  {
   "cell_type": "code",
   "execution_count": null,
   "metadata": {
    "collapsed": false,
    "deletable": true,
    "editable": true
   },
   "outputs": [],
   "source": [
    "fig,ax=plt.subplots(1,1,figsize=(12,12))\n",
    "basemap_args=dict(new_basemap_args)\n",
    "basemap_args.update(dict(ax=ax,resolution='l',width=2*newcornerx,height=2*newcornery))\n",
    "bmap=Basemap(**basemap_args)\n",
    "#bmap.imshow(result_data_nn,origin='upper')\n",
    "new_transform = from_bounds(bmap.llcrnrx,bmap.llcrnry,\n",
    "                             bmap.urcrnrx,bmap.urcrnry,newcols,newrows)\n",
    "xvals,yvals=make_xy(0,newrows,0,newcols,new_transform)\n",
    "CS=bmap.pcolormesh(xvals,yvals,result_data_nn)\n",
    "cax=bmap.colorbar(CS,'right',pad=0.6)\n",
    "out=cax.ax.set_ylabel('Brightness temperature (K)')\n",
    "out.set_rotation(270)\n",
    "out.set_verticalalignment('bottom')\n",
    "bmap.drawparallels(parallels, labels=[1, 1, 1, 1],\n",
    "                       fontsize=10, latmax=70)\n",
    "bmap.drawmeridians(meridians, labels=[1, 1, 1, 1],\n",
    "                       fontsize=10, latmax=90);\n",
    "bmap.drawcoastlines()\n",
    "van_x,van_y=bmap(van_lon,van_lat)\n",
    "bmap.plot(van_x,van_y,'ro',markersize=10);\n",
    "fig.suptitle('Brightness temperature for {}'.format(file_name),y=0.9);"
   ]
  },
  {
   "cell_type": "code",
   "execution_count": null,
   "metadata": {
    "collapsed": false,
    "deletable": true,
    "editable": true
   },
   "outputs": [],
   "source": [
    "bmap.projparams"
   ]
  },
  {
   "cell_type": "code",
   "execution_count": null,
   "metadata": {
    "collapsed": true,
    "deletable": true,
    "editable": true
   },
   "outputs": [],
   "source": []
  }
 ],
 "metadata": {
  "hide_input": false,
  "kernelspec": {
   "display_name": "Python 3",
   "language": "python",
   "name": "python3"
  },
  "language_info": {
   "codemirror_mode": {
    "name": "ipython",
    "version": 3
   },
   "file_extension": ".py",
   "mimetype": "text/x-python",
   "name": "python",
   "nbconvert_exporter": "python",
   "pygments_lexer": "ipython3",
   "version": "3.5.3"
  }
 },
 "nbformat": 4,
 "nbformat_minor": 2
}
